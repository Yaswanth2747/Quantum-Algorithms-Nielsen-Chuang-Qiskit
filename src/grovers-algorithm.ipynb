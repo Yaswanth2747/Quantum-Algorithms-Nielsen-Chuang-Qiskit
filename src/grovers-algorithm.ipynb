{
  "cells": [
    {
      "cell_type": "markdown",
      "id": "9857bace",
      "metadata": {},
      "source": [
        "# Grover's algorithm\n",
        "\n",
        "Summer of Science | Maths and Physics Club"
      ]
    },
    {
      "cell_type": "markdown",
      "id": "29bb8af1",
      "metadata": {},
      "source": [
        "Grover's algorithm is a quantum search algorithm that helps us find a specific item from an unsorted list much faster than a classical method. Normally, if we had to search through N possibilities, a classical algorithm would take around N steps in the worst case. But Grover's algorithm can do it in roughly √N steps using quantum amplitude amplification.\n",
        "\n",
        "The idea is to start with all possibilities in superposition, then repeatedly apply two operations: one that flips the phase of the correct answer (the oracle), and one that amplifies its probability (the diffusion operator). After enough iterations, measuring the system gives the answer with high probability.\n",
        "\n",
        "Ref:\n",
        "- [But what is quantum computing? (Grover's Algorithm)](https://www.youtube.com/watch?v=RQWpF2Gb-gU&t=1098s&pp=ygULZ3JvdmVyIDNiMWI%3D)\n",
        "- [Grover's algorithm IBM Quantum Platform](https://quantum.cloud.ibm.com/docs/en/tutorials/grovers-algorithm)\n",
        "- [Quantum Algorithms : Grover's Search | NPTEL-NOC IITM](https://youtu.be/ZWCuQD-uIoY?si=LdGkavJrUbEo6fDu)"
      ]
    },
    {
      "cell_type": "code",
      "execution_count": 11,
      "id": "9f841d83",
      "metadata": {},
      "outputs": [],
      "source": [
        "from qiskit import QuantumCircuit, transpile\n",
        "from qiskit_aer import AerSimulator\n",
        "from qiskit.visualization import plot_histogram\n",
        "import matplotlib.pyplot as plt\n",
        "%matplotlib inline"
      ]
    },
    {
      "cell_type": "markdown",
      "id": "d25847d5",
      "metadata": {},
      "source": [
        "Creating the Oracle for '11'"
      ]
    },
    {
      "cell_type": "code",
      "execution_count": 12,
      "id": "3a3c023e",
      "metadata": {},
      "outputs": [],
      "source": [
        "def grover_oracle(n):\n",
        "    qc = QuantumCircuit(n)\n",
        "    qc.cz(0, 1)  # flips the phase of '11' using controlled-Z\n",
        "    return qc"
      ]
    },
    {
      "cell_type": "markdown",
      "id": "3c0fb6ea",
      "metadata": {},
      "source": [
        "Diffusion Operator"
      ]
    },
    {
      "cell_type": "code",
      "execution_count": 13,
      "id": "50db8a76",
      "metadata": {},
      "outputs": [],
      "source": [
        "def grover_diffusion(n):\n",
        "    qc = QuantumCircuit(n)\n",
        "    qc.h(range(n))\n",
        "    qc.x(range(n))\n",
        "    qc.h(n - 1)\n",
        "    qc.cx(0, 1)\n",
        "    qc.h(n - 1)\n",
        "    qc.x(range(n))\n",
        "    qc.h(range(n))\n",
        "    return qc"
      ]
    },
    {
      "cell_type": "markdown",
      "id": "96c25a31",
      "metadata": {},
      "source": [
        "Building Grover Circuit"
      ]
    },
    {
      "cell_type": "code",
      "execution_count": 14,
      "id": "3870f9c4",
      "metadata": {},
      "outputs": [
        {
          "data": {
            "image/png": "[encoded data removed]",
            "text/plain": [
              "<Figure size 956.183x284.278 with 1 Axes>"
            ]
          },
          "metadata": {},
          "output_type": "display_data"
        }
      ],
      "source": [
        "n = 2\n",
        "qc = QuantumCircuit(n, n)\n",
        "\n",
        "# putting both qubits into superposition\n",
        "qc.h(range(n))\n",
        "qc.barrier()\n",
        "\n",
        "# marking the right answer using oracle (for 11 here)\n",
        "qc.append(grover_oracle(n).to_gate(label=\"Oracle\"), range(n))\n",
        "qc.barrier()\n",
        "\n",
        "# doing the amplitude boost part (diffusion)\n",
        "qc.append(grover_diffusion(n).to_gate(label=\"Diffusion\"), range(n))\n",
        "qc.barrier()\n",
        "\n",
        "# measuring both qubits\n",
        "qc.measure(range(n), range(n))\n",
        "qc.draw(output='mpl')\n",
        "plt.show()\n"
      ]
    },
    {
      "cell_type": "code",
      "execution_count": 15,
      "id": "02464640",
      "metadata": {},
      "outputs": [
        {
          "data": {
            "image/png": "[encoded data removed]",
            "text/plain": [
              "<Figure size 640x480 with 1 Axes>"
            ]
          },
          "metadata": {},
          "output_type": "display_data"
        }
      ],
      "source": [
        "sim = AerSimulator()\n",
        "qc_t = transpile(qc, sim)\n",
        "job = sim.run(qc_t, shots=1024)\n",
        "result = job.result()\n",
        "counts = result.get_counts()\n",
        "\n",
        "plot_histogram(counts)\n",
        "plt.title(\"Grover Search Result\")\n",
        "plt.show()"
      ]
    },
    {
      "cell_type": "markdown",
      "id": "8e821ca8",
      "metadata": {},
      "source": [
        "Grover's algorithm successfully amplified the correct solution 11 from the superposition of all states. After one iteration of oracle and diffusion, measuring the circuit gave 11 with high probability, showing the power of quantum amplitude amplification."
      ]
    },
    {
      "cell_type": "markdown",
      "id": "cf438fa2",
      "metadata": {},
      "source": [
        "Thank You"
      ]
    }
  ],
  "metadata": {
    "description": "Learn the basics of quantum computing, and how to use IBM Quantum services and systems to solve real-world problems.",
    "kernelspec": {
      "display_name": "qiskit-env",
      "language": "python",
      "name": "python3"
    },
    "language_info": {
      "codemirror_mode": {
        "name": "ipython",
        "version": 3
      },
      "file_extension": ".py",
      "mimetype": "text/x-python",
      "name": "python",
      "nbconvert_exporter": "python",
      "pygments_lexer": "ipython3",
      "version": "3.10.18"
    },
    "title": "Grover's algorithm"
  },
  "nbformat": 4,
  "nbformat_minor": 5
}
